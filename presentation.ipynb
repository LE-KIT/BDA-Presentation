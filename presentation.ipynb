{
 "cells": [
  {
   "cell_type": "markdown",
   "metadata": {},
   "source": [
    "# Presentation"
   ]
  },
  {
   "cell_type": "markdown",
   "metadata": {},
   "source": [
    "Einleitung ... Namen ..."
   ]
  },
  {
   "cell_type": "markdown",
   "metadata": {},
   "source": [
    "## 1 Domain Understanding"
   ]
  },
  {
   "cell_type": "markdown",
   "metadata": {},
   "source": [
    "### Predict the cross-border power flow between Germany and her neighbors\n",
    "Task zusammengefasst "
   ]
  },
  {
   "cell_type": "markdown",
   "metadata": {},
   "source": [
    "### Possible Influences \n",
    "Auflistung, welche Größen den Cross-Border Flow beeinflussen könnten und warum (Wie die Mind map)"
   ]
  },
  {
   "cell_type": "markdown",
   "metadata": {},
   "source": [
    "### Data sources\n",
    "Auflistung der Data sources und wie die Daten zu uns kommen (Scraping) "
   ]
  },
  {
   "cell_type": "markdown",
   "metadata": {},
   "source": [
    "### Fazit \n",
    "Oft ist es gut, wenn am Ende eines Kapitels, bzw. vor dem Anfang des nächsten Kapitels noch ein Absatz steht, der alles zusammenfasst. Bei 10 Minuten egal? Was meint ihr? "
   ]
  },
  {
   "cell_type": "markdown",
   "metadata": {},
   "source": [
    "## 2 Discover and visualize the data to gain insight\n",
    "* Bokeh\n",
    "* Korrelationsplots von Hendrik\n",
    "* Prophet Decomposition "
   ]
  },
  {
   "cell_type": "markdown",
   "metadata": {},
   "source": [
    "## 3 General Preprocessing\n",
    "Zeigen, wie wir auf den Masterdataframe gekommen sind. "
   ]
  },
  {
   "cell_type": "markdown",
   "metadata": {},
   "source": [
    "## 4 Selecting a Model\n",
    "### Possible Models \n",
    "Überblick geben mit der Liste am Anfang \n",
    "### Contestants \n",
    "Näher infrage kommende Modelle\n",
    "### Final selection\n",
    "Erklären, welche(s) Modell(e) wir am Ende genommen haben, und warum. "
   ]
  },
  {
   "cell_type": "markdown",
   "metadata": {},
   "source": [
    "## 5 Explaining the model\n",
    "\n",
    "Erklären wie das finale Modell funktioniert, Input, Output, Funktionsweise ... "
   ]
  },
  {
   "cell_type": "markdown",
   "metadata": {},
   "source": [
    "## 6 Results \n",
    "### Presentation\n",
    "Einfach Plots zeigen.\n",
    "### Interpretation\n",
    "Erklären, wo das Modell stark und wo es schwach ist. "
   ]
  },
  {
   "cell_type": "markdown",
   "metadata": {},
   "source": [
    "## 7 Conclusion \n",
    "Was haben wir gelernt, wo ist Verbesserungpotential. \n"
   ]
  },
  {
   "cell_type": "code",
   "execution_count": null,
   "metadata": {},
   "outputs": [],
   "source": []
  }
 ],
 "metadata": {
  "kernelspec": {
   "display_name": "Python 3",
   "language": "python",
   "name": "python3"
  },
  "language_info": {
   "codemirror_mode": {
    "name": "ipython",
    "version": 3
   },
   "file_extension": ".py",
   "mimetype": "text/x-python",
   "name": "python",
   "nbconvert_exporter": "python",
   "pygments_lexer": "ipython3",
   "version": "3.6.8"
  }
 },
 "nbformat": 4,
 "nbformat_minor": 2
}

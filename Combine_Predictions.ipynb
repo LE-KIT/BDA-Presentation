{
 "cells": [
  {
   "cell_type": "markdown",
   "metadata": {},
   "source": [
    "# Read-In and Aggregate Predictions"
   ]
  },
  {
   "cell_type": "code",
   "execution_count": 2,
   "metadata": {},
   "outputs": [],
   "source": [
    "import pandas as pd\n",
    "import os\n",
    "import re"
   ]
  },
  {
   "cell_type": "markdown",
   "metadata": {},
   "source": [
    "---"
   ]
  },
  {
   "cell_type": "code",
   "execution_count": 115,
   "metadata": {},
   "outputs": [],
   "source": [
    "files = os.listdir('model/lstm/')"
   ]
  },
  {
   "cell_type": "code",
   "execution_count": 116,
   "metadata": {},
   "outputs": [
    {
     "name": "stdout",
     "output_type": "stream",
     "text": [
      "NL-lstm.csv\n",
      "PL-lstm.csv\n",
      "DNK-lstm.csv\n",
      "SWE-lstm.csv\n",
      "NX-lstm.csv\n",
      "LUX-lstm.csv\n",
      "CHE-lstm.csv\n",
      "FRA-lstm.csv\n",
      "CZE-lstm.csv\n",
      "AUT-lstm.csv\n"
     ]
    }
   ],
   "source": [
    "i = 0\n",
    "for file in files:\n",
    "    print(file)\n",
    "    df = pd.read_csv('model/lstm/'+file,index_col=[0]).loc[:,'yhat']\n",
    "    if i==0:\n",
    "        df_master = df\n",
    "    else:\n",
    "        df_master = pd.concat([df_master,df],axis=1)\n",
    "    i+=1\n",
    "\n",
    "cols = ['LSTM_'+ fi.split('-')[0] for fi in files]\n",
    "df_master.columns = cols\n",
    "\n",
    "df_lstm = df_master.copy()"
   ]
  },
  {
   "cell_type": "markdown",
   "metadata": {},
   "source": [
    "---"
   ]
  },
  {
   "cell_type": "code",
   "execution_count": 120,
   "metadata": {},
   "outputs": [],
   "source": []
  },
  {
   "cell_type": "code",
   "execution_count": 123,
   "metadata": {},
   "outputs": [
    {
     "name": "stdout",
     "output_type": "stream",
     "text": [
      "DNK.csv\n",
      "SWE.csv\n",
      "LUX.csv\n",
      "FRA.csv\n",
      "AUT.csv\n",
      "PL.csv\n",
      "CZE.csv\n",
      "CHE.csv\n",
      "NL.csv\n",
      "NX.csv\n"
     ]
    }
   ],
   "source": [
    "files = os.listdir('model/Prophet Forecast/')\n",
    "i = 0\n",
    "for file in files:\n",
    "    print(file)\n",
    "    df = pd.read_csv('model/Prophet Forecast/'+file,index_col=[0]).loc[:,'yhat']\n",
    "    if i==0:\n",
    "        df_master = df\n",
    "    else:\n",
    "        df_master = pd.concat([df_master,df],axis=1)\n",
    "    i+=1\n",
    "    \n",
    "cols = ['Prophet_'+ fi.split('.')[0] for fi in files]\n",
    "df_master.columns = cols\n",
    "df_prophet = df_master.copy()"
   ]
  },
  {
   "cell_type": "markdown",
   "metadata": {},
   "source": [
    "---"
   ]
  },
  {
   "cell_type": "code",
   "execution_count": 143,
   "metadata": {},
   "outputs": [],
   "source": [
    "df_predictions = pd.read_csv('model/cnn_lstm/df_predictions.csv',sep=\";\",index_col=0,parse_dates=['Tag'])\n",
    "df_true_eval_values = pd.read_csv('model/cnn_lstm/df_true_test_values.csv',sep=\";\",index_col=0,parse_dates=['Tag'])"
   ]
  },
  {
   "cell_type": "code",
   "execution_count": 144,
   "metadata": {},
   "outputs": [],
   "source": [
    "df_predictions = df_predictions.loc[df_predictions.Tag<='2019-05-31 23:00:00']\n",
    "df_true_eval_values = df_true_eval_values.loc[df_true_eval_values.Tag<='2019-05-31 23:00:00']\n",
    "df_lstm = df_lstm.iloc[0:744]\n",
    "df_prophet = df_prophet.iloc[0:744]"
   ]
  },
  {
   "cell_type": "markdown",
   "metadata": {},
   "source": [
    "---"
   ]
  },
  {
   "cell_type": "code",
   "execution_count": 145,
   "metadata": {},
   "outputs": [],
   "source": [
    "df_predictions.columns =   ['Tag'] + [ 'CNNLSTM_'+col for col in df_predictions.columns if col != 'Tag']"
   ]
  },
  {
   "cell_type": "code",
   "execution_count": 146,
   "metadata": {},
   "outputs": [],
   "source": [
    "df_predictions = pd.concat([df_predictions,df_lstm,df_prophet],axis=1)\n",
    "df_predictions = df_predictions.set_index('Tag')\n"
   ]
  },
  {
   "cell_type": "code",
   "execution_count": 147,
   "metadata": {},
   "outputs": [],
   "source": [
    "df_true_eval_values = df_true_eval_values.set_index('Tag')"
   ]
  },
  {
   "cell_type": "code",
   "execution_count": 148,
   "metadata": {},
   "outputs": [],
   "source": [
    "df_predictions.to_csv('df_predictions.csv',sep=\";\",index=True)\n",
    "df_true_eval_values.to_csv('df_true_eval_values.csv',sep=\";\",index=True)"
   ]
  },
  {
   "cell_type": "markdown",
   "metadata": {},
   "source": [
    "---"
   ]
  },
  {
   "cell_type": "markdown",
   "metadata": {},
   "source": [
    "# Calculate Error"
   ]
  },
  {
   "cell_type": "code",
   "execution_count": null,
   "metadata": {},
   "outputs": [],
   "source": []
  }
 ],
 "metadata": {
  "kernelspec": {
   "display_name": "DeepLearning",
   "language": "python",
   "name": "deeplearning"
  },
  "language_info": {
   "codemirror_mode": {
    "name": "ipython",
    "version": 3
   },
   "file_extension": ".py",
   "mimetype": "text/x-python",
   "name": "python",
   "nbconvert_exporter": "python",
   "pygments_lexer": "ipython3",
   "version": "3.6.8"
  }
 },
 "nbformat": 4,
 "nbformat_minor": 2
}

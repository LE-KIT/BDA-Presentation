{
 "cells": [
  {
   "cell_type": "code",
   "execution_count": 1,
   "metadata": {},
   "outputs": [],
   "source": [
    "from model.prophet import bda_prophet\n",
    "from fbprophet import Prophet\n",
    "import pandas as pd\n",
    "from datetime import datetime\n",
    "from bda_bokeh import bda_bokeh\n",
    "from sklearn.metrics import mean_absolute_error\n",
    "import pickle\n",
    "\n",
    "\n"
   ]
  },
  {
   "cell_type": "code",
   "execution_count": 2,
   "metadata": {},
   "outputs": [
    {
     "name": "stdout",
     "output_type": "stream",
     "text": [
      "Import File: DE_Physikalischer Stromfluss_201506010000_201706012359_1.csv \n",
      "Import File: DE_Physikalischer Stromfluss_201706020000_201906022359_1.csv \n"
     ]
    },
    {
     "data": {
      "text/html": [
       "<div>\n",
       "<style scoped>\n",
       "    .dataframe tbody tr th:only-of-type {\n",
       "        vertical-align: middle;\n",
       "    }\n",
       "\n",
       "    .dataframe tbody tr th {\n",
       "        vertical-align: top;\n",
       "    }\n",
       "\n",
       "    .dataframe thead th {\n",
       "        text-align: right;\n",
       "    }\n",
       "</style>\n",
       "<table border=\"1\" class=\"dataframe\">\n",
       "  <thead>\n",
       "    <tr style=\"text-align: right;\">\n",
       "      <th></th>\n",
       "      <th>Date</th>\n",
       "      <th>NX</th>\n",
       "      <th>NL</th>\n",
       "      <th>CHE</th>\n",
       "      <th>DNK</th>\n",
       "      <th>CZE</th>\n",
       "      <th>LUX</th>\n",
       "      <th>SWE</th>\n",
       "      <th>AUT</th>\n",
       "      <th>FRA</th>\n",
       "      <th>PL</th>\n",
       "    </tr>\n",
       "  </thead>\n",
       "  <tbody>\n",
       "    <tr>\n",
       "      <th>0</th>\n",
       "      <td>2015-06-01 00:00:00</td>\n",
       "      <td>7279.0</td>\n",
       "      <td>3932.0</td>\n",
       "      <td>145.0</td>\n",
       "      <td>-272.0</td>\n",
       "      <td>554.0</td>\n",
       "      <td>0.0</td>\n",
       "      <td>1.0</td>\n",
       "      <td>1394.0</td>\n",
       "      <td>246.0</td>\n",
       "      <td>1279.0</td>\n",
       "    </tr>\n",
       "    <tr>\n",
       "      <th>1</th>\n",
       "      <td>2015-06-01 01:00:00</td>\n",
       "      <td>7167.0</td>\n",
       "      <td>4014.0</td>\n",
       "      <td>261.0</td>\n",
       "      <td>-141.0</td>\n",
       "      <td>469.0</td>\n",
       "      <td>0.0</td>\n",
       "      <td>1.0</td>\n",
       "      <td>1355.0</td>\n",
       "      <td>66.0</td>\n",
       "      <td>1142.0</td>\n",
       "    </tr>\n",
       "    <tr>\n",
       "      <th>2</th>\n",
       "      <td>2015-06-01 02:00:00</td>\n",
       "      <td>6667.0</td>\n",
       "      <td>3864.0</td>\n",
       "      <td>103.0</td>\n",
       "      <td>-326.0</td>\n",
       "      <td>422.0</td>\n",
       "      <td>0.0</td>\n",
       "      <td>1.0</td>\n",
       "      <td>1574.0</td>\n",
       "      <td>-105.0</td>\n",
       "      <td>1134.0</td>\n",
       "    </tr>\n",
       "    <tr>\n",
       "      <th>3</th>\n",
       "      <td>2015-06-01 03:00:00</td>\n",
       "      <td>6413.0</td>\n",
       "      <td>4242.0</td>\n",
       "      <td>42.0</td>\n",
       "      <td>-262.0</td>\n",
       "      <td>235.0</td>\n",
       "      <td>0.0</td>\n",
       "      <td>1.0</td>\n",
       "      <td>1271.0</td>\n",
       "      <td>-206.0</td>\n",
       "      <td>1090.0</td>\n",
       "    </tr>\n",
       "    <tr>\n",
       "      <th>4</th>\n",
       "      <td>2015-06-01 04:00:00</td>\n",
       "      <td>5347.0</td>\n",
       "      <td>4292.0</td>\n",
       "      <td>-127.0</td>\n",
       "      <td>-582.0</td>\n",
       "      <td>161.0</td>\n",
       "      <td>0.0</td>\n",
       "      <td>1.0</td>\n",
       "      <td>1068.0</td>\n",
       "      <td>-549.0</td>\n",
       "      <td>1083.0</td>\n",
       "    </tr>\n",
       "  </tbody>\n",
       "</table>\n",
       "</div>"
      ],
      "text/plain": [
       "                 Date      NX      NL    CHE    DNK    CZE  LUX  SWE     AUT  \\\n",
       "0 2015-06-01 00:00:00  7279.0  3932.0  145.0 -272.0  554.0  0.0  1.0  1394.0   \n",
       "1 2015-06-01 01:00:00  7167.0  4014.0  261.0 -141.0  469.0  0.0  1.0  1355.0   \n",
       "2 2015-06-01 02:00:00  6667.0  3864.0  103.0 -326.0  422.0  0.0  1.0  1574.0   \n",
       "3 2015-06-01 03:00:00  6413.0  4242.0   42.0 -262.0  235.0  0.0  1.0  1271.0   \n",
       "4 2015-06-01 04:00:00  5347.0  4292.0 -127.0 -582.0  161.0  0.0  1.0  1068.0   \n",
       "\n",
       "     FRA      PL  \n",
       "0  246.0  1279.0  \n",
       "1   66.0  1142.0  \n",
       "2 -105.0  1134.0  \n",
       "3 -206.0  1090.0  \n",
       "4 -549.0  1083.0  "
      ]
     },
     "execution_count": 2,
     "metadata": {},
     "output_type": "execute_result"
    }
   ],
   "source": [
    "df = bda_bokeh.import_data()\n",
    "df = bda_bokeh.preprocessing(df)\n",
    "\n",
    "#from fbprophet.plot import plot_plotly\n",
    "#import plotly.offline as py\n",
    "\n",
    "country_codes = bda_prophet.extract_country_codes(df)\n",
    "df = bda_prophet.get_net_export(df, country_codes, [\"EX\",\"IM\"])\n",
    "df.head()"
   ]
  },
  {
   "cell_type": "code",
   "execution_count": 3,
   "metadata": {},
   "outputs": [],
   "source": [
    "def get_outliers(df, factor):\n",
    "    '''\n",
    "    Returns the index of outliers concerning NX in a list.\n",
    "    :param df:\n",
    "    :param factor: factor of the std. after which entries are considered outliers.\n",
    "    :return:\n",
    "    '''\n",
    "    idxs = df[df['NX'] > df['NX'].mean() + factor * df['NX'].std()]\n",
    "    return idxs\n",
    "df.drop(get_outliers(df,3).index, inplace=True)"
   ]
  },
  {
   "cell_type": "code",
   "execution_count": 4,
   "metadata": {},
   "outputs": [],
   "source": [
    "def train_prophet_model(df, country_code, train_until_including=\"2019-4-30\"):\n",
    "    df = df[df['Date']<= train_until_including]\n",
    "    print(\"start training: \" + country_code)\n",
    "    df_temp = df[['Date', country_code]]\n",
    "    df_temp = bda_prophet.rename_columns_for_prophet(df_temp)\n",
    "    m = Prophet()\n",
    "    return m.fit(df_temp) \n",
    " \n",
    "       "
   ]
  },
  {
   "cell_type": "code",
   "execution_count": 5,
   "metadata": {},
   "outputs": [],
   "source": [
    "def make_prediction_df(df, country_code, model, start_date=datetime(2019,5,1), end_date=datetime(2019,5,31,23,0,0)):\n",
    "    df_prediction = df[['Date', country_code]]\n",
    "    df_prediction = df_prediction.rename(columns={'Date': 'ds', country_code: 'y'})\n",
    "\n",
    "    future = pd.DataFrame({\"ds\": pd.date_range(start=start_date, end=end_date, freq=\"1H\")})\n",
    "    forecast = m.predict(future) \n",
    "    \n",
    "    df_prediction = df_prediction.merge(forecast[['ds','yhat']])\n",
    "    return df_prediction"
   ]
  },
  {
   "cell_type": "code",
   "execution_count": 6,
   "metadata": {},
   "outputs": [],
   "source": [
    "def train_model_and_save_prediction(df, country):\n",
    "    df = df.copy()\n",
    "    country_code=country\n",
    "    m = train_prophet_model(df, country_code)\n",
    "    pred_df = make_prediction_df(df, country, m)\n",
    "    pred_df.to_csv(\"./model/prophet/\" + country_code +\".csv\")\n",
    "    pkl_path = \"./model/prophet/\" + country_code + \"-model.pkl\"\n",
    "    with open(pkl_path, \"wb\") as f:\n",
    "        pickle.dump(m,f)\n",
    "    print(country_code + \"trained and results saved.\")"
   ]
  },
  {
   "cell_type": "code",
   "execution_count": 38,
   "metadata": {},
   "outputs": [
    {
     "name": "stdout",
     "output_type": "stream",
     "text": [
      "start training: PL\n"
     ]
    },
    {
     "name": "stderr",
     "output_type": "stream",
     "text": [
      "C:\\Users\\Laurin\\Anaconda3\\envs\\bda\\lib\\site-packages\\pystan\\misc.py:399: FutureWarning:\n",
      "\n",
      "Conversion of the second argument of issubdtype from `float` to `np.floating` is deprecated. In future, it will be treated as `np.float64 == np.dtype(float).type`.\n",
      "\n"
     ]
    }
   ],
   "source": [
    "countries = ['NX','NL','CHE','DNK','CZE','LUX','SWE','AUT','FRA','PL']\n",
    "country='PL'\n",
    "m = train_prophet_model(df.copy(), country)"
   ]
  },
  {
   "cell_type": "code",
   "execution_count": 39,
   "metadata": {},
   "outputs": [],
   "source": [
    "pred_df = make_prediction_df(df, country, m)"
   ]
  },
  {
   "cell_type": "code",
   "execution_count": 40,
   "metadata": {},
   "outputs": [
    {
     "name": "stdout",
     "output_type": "stream",
     "text": [
      "PL trained and results saved.\n"
     ]
    }
   ],
   "source": [
    "pred_df.to_csv(\"./model/prophet/\" + country +\".csv\")\n",
    "pkl_path = \"./model/prophet/\" + country + \"-model.pkl\"\n",
    "with open(pkl_path, \"wb\") as f:\n",
    "    pickle.dump(m,f)\n",
    "print(country + \" trained and results saved.\")"
   ]
  },
  {
   "cell_type": "code",
   "execution_count": null,
   "metadata": {},
   "outputs": [],
   "source": []
  },
  {
   "cell_type": "code",
   "execution_count": null,
   "metadata": {},
   "outputs": [],
   "source": []
  }
 ],
 "metadata": {
  "kernelspec": {
   "display_name": "Python 3",
   "language": "python",
   "name": "python3"
  },
  "language_info": {
   "codemirror_mode": {
    "name": "ipython",
    "version": 3
   },
   "file_extension": ".py",
   "mimetype": "text/x-python",
   "name": "python",
   "nbconvert_exporter": "python",
   "pygments_lexer": "ipython3",
   "version": "3.6.8"
  }
 },
 "nbformat": 4,
 "nbformat_minor": 2
}

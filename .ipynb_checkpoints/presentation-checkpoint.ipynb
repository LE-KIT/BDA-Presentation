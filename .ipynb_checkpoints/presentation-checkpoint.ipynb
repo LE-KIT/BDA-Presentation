{
 "cells": [
  {
   "cell_type": "markdown",
   "metadata": {
    "slideshow": {
     "slide_type": "slide"
    }
   },
   "source": [
    "# Presentation"
   ]
  },
  {
   "cell_type": "markdown",
   "metadata": {
    "slideshow": {
     "slide_type": "slide"
    }
   },
   "source": [
    "Einleitung ... Namen ..."
   ]
  },
  {
   "cell_type": "markdown",
   "metadata": {
    "slideshow": {
     "slide_type": "slide"
    }
   },
   "source": [
    "## 1 Domain Understanding"
   ]
  },
  {
   "cell_type": "markdown",
   "metadata": {
    "slideshow": {
     "slide_type": "slide"
    }
   },
   "source": [
    "### Predict the cross-border power flow between Germany and her neighbors\n",
    "European integration of electricity market is triggering…  \n",
    "\n",
    "-->\t    Need to predict the physical net current flow of Germany to the neighboring countries  \n",
    "--> \tAdequate reactions facilitated by reliable predictions   \n",
    "\n",
    "\n",
    "Goal of this project is to develop a ML-based model that can reliably perform the predictions based on publicly available data input.  \n",
    " "
   ]
  },
  {
   "cell_type": "markdown",
   "metadata": {
    "slideshow": {
     "slide_type": "subslide"
    }
   },
   "source": [
    "### Predict the cross-border power flow between Germany and her neighbors  \n",
    "\n",
    "Output requirements of the model:   \n",
    "•\tTime stamp with hourly granularity   \n",
    "•\tNet electricity flow per country  \n",
    "\n",
    "\n",
    "The model is not trained again before the input of future data and shall therefore be generalizable.  \n",
    "\n",
    "\n",
    "Quality indicator of the prediction is quantity-weighted RSME.  "
   ]
  },
  {
   "cell_type": "markdown",
   "metadata": {
    "slideshow": {
     "slide_type": "slide"
    }
   },
   "source": [
    "### Possible Influences \n",
    "First step was a brainstorming about the possible influence factors without specifying potential data sources and required formats. Afterwards we clustered the factors and created a mind-map.   \n",
    "\n",
    "The main factor categories we identified are:  \n",
    "•\tMarket-related  \n",
    "•\tPhysical restrictions  \n",
    "•\tProduction and Weather  \n",
    "\n",
    "Besides data related to Germany, the influence factors can always be extended to neighboring countries, this means that most of the identified factors exist for every other country and could thus be used as further input for training our model.   \n",
    "\n",
    "However, our main independent variables are related to Germany, improved by some weather data from abroad.   \n",
    "\n",
    "\n",
    "Auflistung, welche Größen den Cross-Border Flow beeinflussen könnten und warum (Wie die Mind map)"
   ]
  },
  {
   "cell_type": "markdown",
   "metadata": {
    "slideshow": {
     "slide_type": "subslide"
    }
   },
   "source": [
    "### Possible Influences \n",
    "\n",
    "<img src=\"files/MindMap.png\"> "
   ]
  },
  {
   "cell_type": "markdown",
   "metadata": {},
   "source": [
    "### Data sources\n",
    "Auflistung der Data sources und wie die Daten zu uns kommen (Scraping) "
   ]
  },
  {
   "cell_type": "markdown",
   "metadata": {},
   "source": [
    "### Fazit \n",
    "Oft ist es gut, wenn am Ende eines Kapitels, bzw. vor dem Anfang des nächsten Kapitels noch ein Absatz steht, der alles zusammenfasst. Bei 10 Minuten egal? Was meint ihr? "
   ]
  },
  {
   "cell_type": "markdown",
   "metadata": {},
   "source": [
    "## 2 Discover and visualize the data to gain insight\n",
    "* Bokeh\n",
    "* Korrelationsplots von Hendrik\n",
    "* Prophet Decomposition "
   ]
  },
  {
   "cell_type": "markdown",
   "metadata": {},
   "source": [
    "## 3 General Preprocessing\n",
    "Zeigen, wie wir auf den Masterdataframe gekommen sind. "
   ]
  },
  {
   "cell_type": "markdown",
   "metadata": {},
   "source": [
    "## 4 Selecting a Model\n",
    "### Possible Models \n",
    "Überblick geben mit der Liste am Anfang \n",
    "### Contestants \n",
    "Näher infrage kommende Modelle\n",
    "### Final selection\n",
    "Erklären, welche(s) Modell(e) wir am Ende genommen haben, und warum. "
   ]
  },
  {
   "cell_type": "markdown",
   "metadata": {},
   "source": [
    "## 5 Explaining the model\n",
    "\n",
    "Erklären wie das finale Modell funktioniert, Input, Output, Funktionsweise ... "
   ]
  },
  {
   "cell_type": "markdown",
   "metadata": {},
   "source": [
    "## 6 Results \n",
    "### Presentation\n",
    "Einfach Plots zeigen.\n",
    "### Interpretation\n",
    "Erklären, wo das Modell stark und wo es schwach ist. "
   ]
  },
  {
   "cell_type": "markdown",
   "metadata": {},
   "source": [
    "## 7 Conclusion \n",
    "Was haben wir gelernt, wo ist Verbesserungpotential. \n"
   ]
  },
  {
   "cell_type": "code",
   "execution_count": null,
   "metadata": {},
   "outputs": [],
   "source": []
  }
 ],
 "metadata": {
  "celltoolbar": "Slideshow",
  "kernelspec": {
   "display_name": "Python [default]",
   "language": "python",
   "name": "python3"
  },
  "language_info": {
   "codemirror_mode": {
    "name": "ipython",
    "version": 3
   },
   "file_extension": ".py",
   "mimetype": "text/x-python",
   "name": "python",
   "nbconvert_exporter": "python",
   "pygments_lexer": "ipython3",
   "version": "3.7.0"
  }
 },
 "nbformat": 4,
 "nbformat_minor": 2
}
